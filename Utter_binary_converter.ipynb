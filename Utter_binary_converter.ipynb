{
  "nbformat": 4,
  "nbformat_minor": 0,
  "metadata": {
    "colab": {
      "name": "Utter binary_converter.ipynb",
      "provenance": [],
      "collapsed_sections": [],
      "include_colab_link": true
    },
    "kernelspec": {
      "name": "python3",
      "display_name": "Python 3"
    }
  },
  "cells": [
    {
      "cell_type": "markdown",
      "metadata": {
        "id": "view-in-github",
        "colab_type": "text"
      },
      "source": [
        "<a href=\"https://colab.research.google.com/github/hannahutter99/github-slideshow/blob/master/Utter_binary_converter.ipynb\" target=\"_parent\"><img src=\"https://colab.research.google.com/assets/colab-badge.svg\" alt=\"Open In Colab\"/></a>"
      ]
    },
    {
      "cell_type": "markdown",
      "metadata": {
        "id": "uYs7koNfGeZQ"
      },
      "source": [
        "# Storytelling with Data Assignment 3: Binary converter\n",
        "\n",
        "## Overview\n",
        "\n",
        "This assignment is intended to:\n",
        "- Give you some practice writing basic code in Python\n",
        "- Introduce you to Google Colaboratory and Jupyter Notebooks\n",
        "- Introduce you to the process of submitting an assignment using GitHub\n",
        "\n",
        "Prior to starting this assignment, you should work through the material in [Module 3](https://github.com/ContextLab/storytelling-with-data/blob/master/slides/outline.md#module-3-python-and-jupyter-notebooks-as-a-medium-for-data-storytelling).\n",
        "\n",
        "You will be writing a function called `convert` that accepts a non-negative integer (1, 3004, 28, etc.) as input and returns the [binary representation of that number](https://en.wikipedia.org/wiki/Binary_number#Counting_in_binary) as an output.  For example, calling\n",
        "```\n",
        "convert(10)\n",
        "```\n",
        "should return the string `'1010'`.  The assignment instructions in the remainder of this notebook will take you through the steps of writing and testing your function.\n",
        "\n",
        "If you have not already done so, you should formally [accept this assignment](https://classroom.github.com/a/6eTaFkVe) so that you are able to edit and submit it when you are ready.\n"
      ]
    },
    {
      "cell_type": "markdown",
      "metadata": {
        "id": "YU533_Y3IjWU"
      },
      "source": [
        "# Beginner approach\n",
        "\n",
        "If you are new to computer programming, I suggest that you follow the *Beginner approach* outlined in this cell.  If you already have some programming experience, or if you are seeking an additional challenge, consider trying the *Experienced approach* or *Challenge problem* instead (or in addition).\n",
        "\n",
        "## High-level overview\n",
        "\n",
        "The simplest way to convert a non-negative integer `n` into binary string is begin by writing a helper function that increments the binary representation of a number by 1.  In other words, the string `'0'` will become `'1'` and the string `'111'` will become `'1000'`, and so on.  Once this `increment` function is written, converting a number into a binary string is simple: start with the string `'0'`, call your `increment` function `n` times, and return the result.\n",
        "\n",
        "## Increment function\n",
        "\n",
        "Counting in binary (base 2) works just like \"normal\" counting (in base 10).  You start with the rightmost digit and increment it by 1.  If the rightmost digit is a 0, you simply change it to a 1 and then you're done (e.g., `'1000'` becomes `'1001'`).  If the rightmost digit is a 1, then you need to change one or more digits in higher-order positions as illustrated in this animation:\n",
        "\n",
        "![height:50px](https://upload.wikimedia.org/wikipedia/commons/thumb/7/75/Binary_counter.gif/220px-Binary_counter.gif)\n",
        "\n",
        "The full algorithm for the increment function for the binary string `b` goes like this:\n",
        "1. Set `y` to the empty string (`''`)\n",
        "2. Set `incremented` to `False` (this will track whether we've incremented the number yet or not)\n",
        "3. Loop through each of the characters in `b` in reverse order.  We'll call the current character `x`.\n",
        "4. If `incremented` is `True`, append `x` to the beginning of `y` and then continue with the next iteration of the loop.\n",
        "5. If `x` is `1`, append `'0'` to the beginning of `y` and then continue with the next iteration of the loop.\n",
        "6. If `x` is `0`, append `'1'` to the beginning of `y`, set `incremented` to `True`, and then continue with the next iteration of the loop.\n",
        "7. After the loop exits, append a `1` to the beginning of `y` if `incremented` is still `False.\n",
        "8. Return `y`\n",
        "\n",
        "Study the animation and then try to work through some examples on paper to make sure you understand how this function works.\n",
        "\n",
        "## Reversing a string\n",
        "\n",
        "The trickiest part of the `increment` function is looping \"backwards\" through the characters in `b`.  You can use Python's [slice notation](https://stackoverflow.com/questions/509211/understanding-slice-notation) to do this efficiently.  The following loop will print out each character in `b`, in reverse order:\n",
        "```python\n",
        "for x in b[len(b)::-1]:\n",
        "  print(x)\n",
        "```\n",
        "In your `increment` function you can modify that loop to implement the algorithm described above.\n",
        "\n",
        "## The `range` function\n",
        "\n",
        "In your `convert` function (which should accept a non-negative integer and returns a string representation of that number in binary), you'll need to run the `increment` helper function `n` times.  The following example uses Python's `range` function to print out the string `'Hello!'` 10 times:\n",
        "```python\n",
        "for i in range(10):\n",
        "  print('Hello!')\n",
        "```\n",
        "You can modify this loop to run `n` times (and to call the `increment` function each time) in order to set up your `convert` function.\n",
        "\n",
        "## Input checks\n",
        "\n",
        "If the user passes an invalid input to your function, your function should print out a useful error message and trigger an `Exception`.  For example, if the user calls `convert(-10)` you might raise an error with the message `'input must be non-negative'`.  Or if the input isn't an integer, you might raise an error with the message `'input must be an integer'`.  You should use `assert` statements at the beginning of your `convert` function to check that the user has provided your function with a valid input.\n",
        "\n",
        "## Generating examples\n",
        "\n",
        "The built-in Python function `bin` converts integers to their binary representations. You can use this to generate examples of correct inputs-- for any non-negative integer `n`, `str(bin(n))[2:]` will return a string of the binary representation of `n`. Note that you should *not* use the `bin` function to implement `convert`; the point of this assignment is for you to implement the function yourself, not to find built-in functions.\n",
        "\n",
        "\n",
        "\n"
      ]
    },
    {
      "cell_type": "code",
      "metadata": {
        "id": "iWgMU3beRw9_"
      },
      "source": [
        "# 1. Set y to the empty string ('')\n",
        "# 2. Set incremented to False (this will track whether we've incremented the number yet or not)\n",
        "# 3. Loop through each of the characters in b in reverse order. We'll call the current character x.\n",
        "# 4. If incremented is True, append x to the beginning of y and then continue with the next iteration of the loop.\n",
        "# 5. If x is 1, append '0' to the beginning of y and then continue with the next iteration of the loop.\n",
        "# 6. If x is 0, append '1' to the beginning of y, set incremented to True, and then continue with the next iteration of the loop.\n",
        "# 7. After the loop exits, append a 1 to the beginning of y if incremented is still `False.\n",
        "# 8. Return y"
      ],
      "execution_count": null,
      "outputs": []
    },
    {
      "cell_type": "code",
      "metadata": {
        "colab": {
          "base_uri": "https://localhost:8080/"
        },
        "id": "b1Hnq0ckZamR",
        "outputId": "9c0e2023-e979-4c2a-c7ad-cee736cd5f4c"
      },
      "source": [
        "my_list = ['fish', 'cat', 'dog', 'bear']\n",
        "\n",
        "for animal in my_list:\n",
        "    print(animal + '!')"
      ],
      "execution_count": null,
      "outputs": [
        {
          "output_type": "stream",
          "text": [
            "fish!\n",
            "cat!\n",
            "dog!\n",
            "bear!\n"
          ],
          "name": "stdout"
        }
      ]
    },
    {
      "cell_type": "code",
      "metadata": {
        "colab": {
          "base_uri": "https://localhost:8080/"
        },
        "id": "9G-i0JFRgEoQ",
        "outputId": "4068fdbc-ad63-4fbb-a193-125cbb1a66ca"
      },
      "source": [
        "print(my_list)\n",
        "print(my_list[::-1])"
      ],
      "execution_count": null,
      "outputs": [
        {
          "output_type": "stream",
          "text": [
            "['fish', 'cat', 'dog', 'bear']\n",
            "['bear', 'dog', 'cat', 'fish']\n"
          ],
          "name": "stdout"
        }
      ]
    },
    {
      "cell_type": "code",
      "metadata": {
        "id": "KVOY_RNEg1mJ"
      },
      "source": [
        "def make_excited(some_string):\n",
        "    excited_string = some_string + '!'\n",
        "    return excited_string"
      ],
      "execution_count": null,
      "outputs": []
    },
    {
      "cell_type": "code",
      "metadata": {
        "id": "d89Jv1N8g8B3",
        "colab": {
          "base_uri": "https://localhost:8080/",
          "height": 181
        },
        "outputId": "b54c6ed7-4743-4f7d-836c-0373e556f287"
      },
      "source": [
        "\n",
        "0 % 0\n"
      ],
      "execution_count": null,
      "outputs": [
        {
          "output_type": "error",
          "ename": "ZeroDivisionError",
          "evalue": "ignored",
          "traceback": [
            "\u001b[0;31m---------------------------------------------------------------------------\u001b[0m",
            "\u001b[0;31mZeroDivisionError\u001b[0m                         Traceback (most recent call last)",
            "\u001b[0;32m<ipython-input-16-f84039648c7c>\u001b[0m in \u001b[0;36m<module>\u001b[0;34m()\u001b[0m\n\u001b[1;32m      1\u001b[0m \u001b[0;34m\u001b[0m\u001b[0m\n\u001b[0;32m----> 2\u001b[0;31m \u001b[0;36m0\u001b[0m \u001b[0;34m%\u001b[0m \u001b[0;36m0\u001b[0m\u001b[0;34m\u001b[0m\u001b[0;34m\u001b[0m\u001b[0m\n\u001b[0m",
            "\u001b[0;31mZeroDivisionError\u001b[0m: integer division or modulo by zero"
          ]
        }
      ]
    },
    {
      "cell_type": "code",
      "metadata": {
        "id": "dofUXgetGPEW"
      },
      "source": [
        "def convert(n):\n",
        "  if type(n) == int:\n",
        "    n=int(n)\n",
        "  if n == 0: \n",
        "    n=int(n)\n",
        "  elif n%1 == 0:\n",
        "     n=int(n)\n",
        "  else:\n",
        "      assert type(n) ==int, 'input must be an integer' \n",
        "  \n",
        "  assert n>=0, 'input must be non-negative'\n",
        "#n = base 10 number input, output = binary number, increment = takes a binary number & returns binary number for 1 greater\n",
        "  def increment(b):\n",
        "        # fill in your definition of the increment function here!\n",
        "        y = ''\n",
        "        incremented = False\n",
        "        for x in b[::-1]:\n",
        "            if incremented is True: \n",
        "                y=x+y\n",
        "            elif x == '1':\n",
        "                y='0'+y \n",
        "            else:\n",
        "                y='1'+y \n",
        "                incremented = True\n",
        "        if incremented is False:\n",
        "            y='1'+y\n",
        "        return y \n",
        "    \n",
        "  h='0'\n",
        "  for z in range(n):\n",
        "        h = increment(h)\n",
        "  return h\n"
      ],
      "execution_count": null,
      "outputs": []
    },
    {
      "cell_type": "code",
      "metadata": {
        "id": "6-dp8ryvpId6"
      },
      "source": [
        ""
      ],
      "execution_count": null,
      "outputs": []
    },
    {
      "cell_type": "markdown",
      "metadata": {
        "id": "25246yCtbWBe"
      },
      "source": [
        "# Tests\n",
        "\n",
        "Once you've written your function, you should test it out to ensure that it is behaving as you expect.  Good tests include:\n",
        "- Spot checking: verify that you get the correct answers for several hand-picked examples that test different aspects of your function.\n",
        "- Edge cases: if there are certain conditions or cases where you forsee potential difficulties, test them as well.\n",
        "- Input checking: verify that your code gracefully handles \"bad\" inputs"
      ]
    },
    {
      "cell_type": "code",
      "metadata": {
        "id": "gpB4zFytcAT9",
        "colab": {
          "base_uri": "https://localhost:8080/"
        },
        "outputId": "91f002a3-bfd9-48f4-8237-e7825ed8ce69"
      },
      "source": [
        "#spot checks\n",
        "assert convert(0) == '0', 'failed to convert 0 correctly'\n",
        "assert convert(1) == '1', 'failed to convert 1 correctly'\n",
        "assert convert(2) == '10', 'failed to convert 2 correctly'\n",
        "assert convert(4) == '100', 'failed to convert 4 correctly'\n",
        "assert convert(10) == '1010', 'failed to convert 10 correctly'\n",
        "assert convert(100) == '1100100', 'failed to convert 100 correctly'\n",
        "print('spot checks passed!')\n",
        "\n",
        "#edge cases\n",
        "assert convert(10.00) == '1010', 'failed to handle floats (case 1)'\n",
        "assert convert(3.14 - 0.14) == '11', 'failed to handle floats (case 2)'\n",
        "print('edge cases passed!')"
      ],
      "execution_count": null,
      "outputs": [
        {
          "output_type": "stream",
          "text": [
            "spot checks passed!\n",
            "edge cases passed!\n"
          ],
          "name": "stdout"
        }
      ]
    },
    {
      "cell_type": "code",
      "metadata": {
        "id": "PxqL9TNedpT5",
        "colab": {
          "base_uri": "https://localhost:8080/",
          "height": 300
        },
        "outputId": "59e8518b-2651-4ad8-da00-7f23c1c23db7"
      },
      "source": [
        "#input checking-- should print an \"input must be non-negative\" error message\n",
        "convert(-100)"
      ],
      "execution_count": null,
      "outputs": [
        {
          "output_type": "error",
          "ename": "AssertionError",
          "evalue": "ignored",
          "traceback": [
            "\u001b[0;31m---------------------------------------------------------------------------\u001b[0m",
            "\u001b[0;31mAssertionError\u001b[0m                            Traceback (most recent call last)",
            "\u001b[0;32m<ipython-input-46-bf82e0e47660>\u001b[0m in \u001b[0;36m<module>\u001b[0;34m()\u001b[0m\n\u001b[1;32m      1\u001b[0m \u001b[0;31m#input checking-- should print an \"input must be non-negative\" error message\u001b[0m\u001b[0;34m\u001b[0m\u001b[0;34m\u001b[0m\u001b[0;34m\u001b[0m\u001b[0m\n\u001b[0;32m----> 2\u001b[0;31m \u001b[0mconvert\u001b[0m\u001b[0;34m(\u001b[0m\u001b[0;34m-\u001b[0m\u001b[0;36m100\u001b[0m\u001b[0;34m)\u001b[0m\u001b[0;34m\u001b[0m\u001b[0;34m\u001b[0m\u001b[0m\n\u001b[0m",
            "\u001b[0;32m<ipython-input-44-cbedcf6d8558>\u001b[0m in \u001b[0;36mconvert\u001b[0;34m(n)\u001b[0m\n\u001b[1;32m      9\u001b[0m       \u001b[0;32massert\u001b[0m \u001b[0mtype\u001b[0m\u001b[0;34m(\u001b[0m\u001b[0mn\u001b[0m\u001b[0;34m)\u001b[0m \u001b[0;34m==\u001b[0m\u001b[0mint\u001b[0m\u001b[0;34m,\u001b[0m \u001b[0;34m'input must be an integer'\u001b[0m\u001b[0;34m\u001b[0m\u001b[0;34m\u001b[0m\u001b[0m\n\u001b[1;32m     10\u001b[0m \u001b[0;34m\u001b[0m\u001b[0m\n\u001b[0;32m---> 11\u001b[0;31m   \u001b[0;32massert\u001b[0m \u001b[0mn\u001b[0m\u001b[0;34m>=\u001b[0m\u001b[0;36m0\u001b[0m\u001b[0;34m,\u001b[0m \u001b[0;34m'input must be non-negative'\u001b[0m\u001b[0;34m\u001b[0m\u001b[0;34m\u001b[0m\u001b[0m\n\u001b[0m\u001b[1;32m     12\u001b[0m \u001b[0;31m#n = base 10 number input, output = binary number, increment = takes a binary number & returns binary number for 1 greater\u001b[0m\u001b[0;34m\u001b[0m\u001b[0;34m\u001b[0m\u001b[0;34m\u001b[0m\u001b[0m\n\u001b[1;32m     13\u001b[0m   \u001b[0;32mdef\u001b[0m \u001b[0mincrement\u001b[0m\u001b[0;34m(\u001b[0m\u001b[0mb\u001b[0m\u001b[0;34m)\u001b[0m\u001b[0;34m:\u001b[0m\u001b[0;34m\u001b[0m\u001b[0;34m\u001b[0m\u001b[0m\n",
            "\u001b[0;31mAssertionError\u001b[0m: input must be non-negative"
          ]
        }
      ]
    },
    {
      "cell_type": "code",
      "metadata": {
        "id": "oF5YPCE8dyYb",
        "colab": {
          "base_uri": "https://localhost:8080/",
          "height": 300
        },
        "outputId": "9eccb668-9bd6-42cc-dd0d-b543eabf5b66"
      },
      "source": [
        "#input checking-- should print an \"input must be an integer\" error message\n",
        "convert(5.67)"
      ],
      "execution_count": null,
      "outputs": [
        {
          "output_type": "error",
          "ename": "AssertionError",
          "evalue": "ignored",
          "traceback": [
            "\u001b[0;31m---------------------------------------------------------------------------\u001b[0m",
            "\u001b[0;31mAssertionError\u001b[0m                            Traceback (most recent call last)",
            "\u001b[0;32m<ipython-input-47-56771fe8a007>\u001b[0m in \u001b[0;36m<module>\u001b[0;34m()\u001b[0m\n\u001b[1;32m      1\u001b[0m \u001b[0;31m#input checking-- should print an \"input must be an integer\" error message\u001b[0m\u001b[0;34m\u001b[0m\u001b[0;34m\u001b[0m\u001b[0;34m\u001b[0m\u001b[0m\n\u001b[0;32m----> 2\u001b[0;31m \u001b[0mconvert\u001b[0m\u001b[0;34m(\u001b[0m\u001b[0;36m5.67\u001b[0m\u001b[0;34m)\u001b[0m\u001b[0;34m\u001b[0m\u001b[0;34m\u001b[0m\u001b[0m\n\u001b[0m",
            "\u001b[0;32m<ipython-input-44-cbedcf6d8558>\u001b[0m in \u001b[0;36mconvert\u001b[0;34m(n)\u001b[0m\n\u001b[1;32m      7\u001b[0m      \u001b[0mn\u001b[0m\u001b[0;34m=\u001b[0m\u001b[0mint\u001b[0m\u001b[0;34m(\u001b[0m\u001b[0mn\u001b[0m\u001b[0;34m)\u001b[0m\u001b[0;34m\u001b[0m\u001b[0;34m\u001b[0m\u001b[0m\n\u001b[1;32m      8\u001b[0m   \u001b[0;32melse\u001b[0m\u001b[0;34m:\u001b[0m\u001b[0;34m\u001b[0m\u001b[0;34m\u001b[0m\u001b[0m\n\u001b[0;32m----> 9\u001b[0;31m       \u001b[0;32massert\u001b[0m \u001b[0mtype\u001b[0m\u001b[0;34m(\u001b[0m\u001b[0mn\u001b[0m\u001b[0;34m)\u001b[0m \u001b[0;34m==\u001b[0m\u001b[0mint\u001b[0m\u001b[0;34m,\u001b[0m \u001b[0;34m'input must be an integer'\u001b[0m\u001b[0;34m\u001b[0m\u001b[0;34m\u001b[0m\u001b[0m\n\u001b[0m\u001b[1;32m     10\u001b[0m \u001b[0;34m\u001b[0m\u001b[0m\n\u001b[1;32m     11\u001b[0m   \u001b[0;32massert\u001b[0m \u001b[0mn\u001b[0m\u001b[0;34m>=\u001b[0m\u001b[0;36m0\u001b[0m\u001b[0;34m,\u001b[0m \u001b[0;34m'input must be non-negative'\u001b[0m\u001b[0;34m\u001b[0m\u001b[0;34m\u001b[0m\u001b[0m\n",
            "\u001b[0;31mAssertionError\u001b[0m: input must be an integer"
          ]
        }
      ]
    },
    {
      "cell_type": "markdown",
      "metadata": {
        "id": "48R_oC3CeAkJ"
      },
      "source": [
        "# Experienced approach (version 1)\n",
        "\n",
        "If you are already familiar with programming, consider challenging yourself by converting integers to binary strings using a more efficient approach.  Specifically, consider that the $n^\\mathrm{th}$ digit from the left (starting from 0) represents the $(2^n)^\\mathrm{th}$ place in the binary representation.  \n",
        "\n",
        "To begin with an example from a counting system that is likely more familiar, the decimal number `234` has a `4` in the `1`s place ($10^0$), a `3` in the `10`s place ($10^1$), and a `2` in the `100`s place ($10^2$).  Therefore the full number has a value of $(2 \\times 10^2) + (3 \\times 10^1) + (4 \\times 10^0)$.\n",
        "\n",
        "Binary counting works similarly-- the value of the binary number `1010` may be found by the sum $(1 \\times 2^3) + (0 \\times 2^2) + (1 \\times 2^1) + (0 \\times 2^0) = 8 + 2 = 10$.\n",
        "\n",
        "You can use this general reasoning to compute how many digits the binary representation will have as well as the specific digit at each position in the binary representation of any (non-negative) base-10 integer.\n",
        "\n",
        "## Hint\n",
        "\n",
        "Solving for the number of digits (and the digit values at each position) will likely require you to compute logarithms in base 2.  You can do this using the `math` library:\n",
        "```python\n",
        "import math\n",
        "\n",
        "y = math.log2(x) #y is the base-2 logarithm of x\n",
        "```\n",
        "\n",
        "Make sure your function passes the tests defined above!\n",
        "\n"
      ]
    },
    {
      "cell_type": "markdown",
      "metadata": {
        "id": "e6FDUttUqv1R"
      },
      "source": [
        "# Experienced approach (version 2)\n",
        "\n",
        "If you're familiar with [recursion](http://projectpython.net/chapter12/index.html) (calling a function in its own definition), you can also write the `convert` function in a recursive way.  In general, the recursive approach has two \"cases\":\n",
        "1. If `n` is 0 or 1, return `str(n)`\n",
        "2. If `n > 1`, return `b + convert(n // 2)` (where `b` is initialized to the empty string)\n",
        "\n",
        "Credit for this approach: [Paxton Fitzpatrick](http://www.context-lab.com/people#lab-members)"
      ]
    },
    {
      "cell_type": "markdown",
      "metadata": {
        "id": "6LBuzC3JhWk_"
      },
      "source": [
        "# Challenge problem\n",
        "\n",
        "As an optional challenge, try extending your `convert` function to accept an optional keyword argument, `base`.  When used in this way, `convert(n, base=b)` should return the base-b representation of `n` (as a string).\n",
        "\n",
        "Considerations:\n",
        "- Write some tests to verify that your function is working correctly.  Hint: base-10 numbers can provide some easy-to-generate examples!\n",
        "- Gracefully deal with cases where the user passes in \"bad\" bases (e.g., bases must be positive, so your function should raise an exception if `base` is not positive).\n",
        "- How well does your function process large numbers?  Can you use the `math.log` function to convert the representations efficiently?"
      ]
    }
  ]
}